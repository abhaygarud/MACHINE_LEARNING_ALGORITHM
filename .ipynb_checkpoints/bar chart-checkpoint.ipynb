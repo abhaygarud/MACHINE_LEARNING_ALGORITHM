{
 "cells": [
  {
   "cell_type": "code",
   "execution_count": null,
   "id": "f9d12c93",
   "metadata": {},
   "outputs": [],
   "source": []
  },
  {
   "cell_type": "code",
   "execution_count": 35,
   "id": "50441f8a",
   "metadata": {},
   "outputs": [
    {
     "data": {
      "image/png": "[encoded data removed]",
      "text/plain": [
       "<Figure size 432x288 with 1 Axes>"
      ]
     },
     "metadata": {
      "needs_background": "light"
     },
     "output_type": "display_data"
    }
   ],
   "source": [
    "import matplotlib.pyplot as plt\n",
    "import numpy as np\n",
    "\n",
    "company=np.array(['google','tcs','tesla','infoysis'])\n",
    "data=np.array([23,10,30,58])\n",
    "profit=np.array([10,15,35,60])\n",
    "#to print the range of company {[1,2,3,4]}\n",
    "xRange=np.arange(len(company))\n",
    "xRange\n",
    "#xticks to convert range of company again to string\n",
    "plt.xticks(xRange,company)\n",
    "#plt.bar to plot the bar chart\n",
    "plt.bar(0.401+xRange,data,label='revenue',width=0.4)\n",
    "plt.bar(xRange,profit,label=\"profit\",width=0.4)\n",
    "\n",
    "plt.ylabel('revenue')\n",
    "plt.title('stocks')\n",
    "plt.legend()\n",
    "plt.grid(alpha=0.2)\n"
   ]
  },
  {
   "cell_type": "code",
   "execution_count": null,
   "id": "5ee3b280",
   "metadata": {},
   "outputs": [],
   "source": []
  }
 ],
 "metadata": {
  "kernelspec": {
   "display_name": "Python 3 (ipykernel)",
   "language": "python",
   "name": "python3"
  },
  "language_info": {
   "codemirror_mode": {
    "name": "ipython",
    "version": 3
   },
   "file_extension": ".py",
   "mimetype": "text/x-python",
   "name": "python",
   "nbconvert_exporter": "python",
   "pygments_lexer": "ipython3",
   "version": "3.9.7"
  }
 },
 "nbformat": 4,
 "nbformat_minor": 5
}
